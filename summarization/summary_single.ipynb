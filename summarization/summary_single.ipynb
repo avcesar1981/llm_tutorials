{
  "nbformat": 4,
  "nbformat_minor": 0,
  "metadata": {
    "colab": {
      "provenance": [],
      "authorship_tag": "ABX9TyOuwiEqYjOpv4k603QELylb",
      "include_colab_link": true
    },
    "kernelspec": {
      "name": "python3",
      "display_name": "Python 3"
    },
    "language_info": {
      "name": "python"
    }
  },
  "cells": [
    {
      "cell_type": "markdown",
      "metadata": {
        "id": "view-in-github",
        "colab_type": "text"
      },
      "source": [
        "<a href=\"https://colab.research.google.com/github/avcesar1981/llm_tutorials/blob/main/summarization/summary_single.ipynb\" target=\"_parent\"><img src=\"https://colab.research.google.com/assets/colab-badge.svg\" alt=\"Open In Colab\"/></a>"
      ]
    },
    {
      "cell_type": "code",
      "execution_count": null,
      "metadata": {
        "id": "aoRe-FElT7F-"
      },
      "outputs": [],
      "source": [
        "#!pip install python-dotenv langfuse langchain langchain_community langchain_groq\n",
        "\n",
        "import os\n",
        "from dotenv import load_dotenv, find_dotenv\n",
        "from langchain_groq import ChatGroq\n",
        "from langchain_community.document_loaders import TextLoader\n",
        "from langchain.chains.combine_documents import create_stuff_documents_chain\n",
        "from langchain_core.prompts import ChatPromptTemplate\n",
        "from langfuse.callback import CallbackHandler\n",
        "from langchain_core.runnables import RunnableConfig\n",
        "from google.colab import userdata"
      ]
    },
    {
      "cell_type": "code",
      "source": [
        "load_dotenv(find_dotenv())\n",
        "\n",
        "# Langfuse tracing\n",
        "langfuse_handler = CallbackHandler(\n",
        "    public_key=userdata.get('LANGFUSE_PK'),\n",
        "    secret_key=userdata.get('LANGFUSE_SK'),\n",
        "    host=userdata.get('LANGFUSE_HOST')\n",
        ")"
      ],
      "metadata": {
        "id": "roCoMPYaU0bw"
      },
      "execution_count": null,
      "outputs": []
    },
    {
      "cell_type": "code",
      "source": [
        "def getLangfuseHandler():\n",
        "    config = RunnableConfig(callbacks=[langfuse_handler])\n",
        "    return config"
      ],
      "metadata": {
        "id": "SUc22bdQWgbW"
      },
      "execution_count": null,
      "outputs": []
    },
    {
      "cell_type": "code",
      "source": [
        "def get_llm(model_name: str):\n",
        "    return ChatGroq(model=model_name, temperature=0, api_key=userdata.get('GROQ_API_KEY'))"
      ],
      "metadata": {
        "id": "OG9hfbCzWp4q"
      },
      "execution_count": null,
      "outputs": []
    },
    {
      "cell_type": "code",
      "source": [
        "loader = TextLoader(\"/content/sample_data/summary_single.txt\")\n",
        "docs = loader.load()\n",
        "print(docs)"
      ],
      "metadata": {
        "colab": {
          "base_uri": "https://localhost:8080/"
        },
        "id": "rWwl1tc0YCGn",
        "outputId": "a5043168-3ebe-4bd6-cf44-3871df863cfd"
      },
      "execution_count": null,
      "outputs": [
        {
          "output_type": "stream",
          "name": "stdout",
          "text": [
            "[Document(metadata={'source': '/content/sample_data/summary_single.txt'}, page_content=\"Will AI take jobs or make jobs?\\nHere's the short answer a definitive, Yes.\\nNow, let's dig into that a little bit deeper and see what I mean when I say that.\\nWell, let's take a look at historically\\nwhat has happened with humans over time and what technology has done for our work lives.\\nSo there was a time when, in fact, most of us had to work in the fields, in agriculture, in order to feed all of us.\\nThen we had some tooling, some mechanization\\nthat came along in the form of tractors and other types of farm implements that made it more productive.\\nThat way we didn't have to have everyone on the planet working in the fields.\\nSome people worked in agriculture, but other people were then able to do other things.\\nSo it took away some of those agriculture jobs, but it also added some others.\\nThe agriculture jobs stayed.\\nWe still have to have food.\\nI still like to eat.\\nSo we need that kind of stuff.\\nBut it also freed us up to do some other things.\\nWell, then we had factories and industrialization.\\nAnd what happened there?\\nWell, we a lot of people moved from fields into factories.\\nThen we had automation, which then freed up people to do more things.\\nAgain, an elimination with a creation.\\nWhat did it create?\\nIt created jobs in the IT sector, in the information age where information is king.\\nAnd this is the kind of thing then that also improved quality\\nof life for a lot of people that were able to transition into those kinds of jobs.\\nAnd then finally, where we are right now is moving into this era of artificial intelligence.\\nWhat will AI do?\\nWell, we can just look historically and see each one of these advances that we have had\\nhave eliminated certain types of jobs while creating yet other types of jobs.\\nSo, for instance, when Edison invented the light bulb,\\nwell, we didn't need nearly as many candle makers as we had had in the past.\\nWhat did that do?\\nDid they all just stop working?\\nNo, they moved into other areas and other areas so that we don't have to spend all of our time making candles.\\nNow we can do even more interesting kinds of things.\\nAnd another thing it did, it improved our quality of life overall.\\nWe were able to work and live through the night\\nthrough all types of conditions because of electricity, because of light bulbs and things like that.\\nSo each one of these advances historically has taken away certain things, but it's also given others.\\nLet's take a look at a cybersecurity perspective on what AI is going to do for jobs in this space.\\nOkay, let's take a look at what are the implications of artificial intelligence on cybersecurity.\\nGood news and bad news, pros and cons.\\nLet's start with the pros first.\\nHow is AI going to help us do better cybersecurity?\\nWell, one of the things it's going to do for us is help us to automate\\nsome of these repetitive tasks that we have to do today.\\nSo I can figure out how to do that and automate it, do it again and again and again.\\nWhat are some examples of that?\\nWell, how about code reviews?\\nIf we want to have it, inspect our code and see where there might be vulnerabilities or bugs.\\nAnother thing it could help automate would be pen testing, penetration testing.\\nHave it try to break into our systems or figure out some of those scenarios.\\nSo those are a couple of things it could do for us.\\nAnother thing that would be particularly useful is case summarization.\\nWhen we've got a case that we've been working on, let's say for a couple of weeks,\\nand we've gathered a lot of notes and a lot of different people have been working on this particular incident.\\nThen if the boss comes in and says, I want to know where do we stand on that?\\nIt might take us a few hours to put together an executive summary,\\nbut generative AI is really good at doing summarization.\\nGive it a lot of information and it will give you that summary.\\nSo case summarization could be a big timesaver in some of these cases.\\nHow about threat hunting?\\nIn threat hunting we are going to basically go out and come up with a hypothesis.\\nI'm going to surmise that maybe someone has broken into my system and\\nif they have, this is what they would go after and if they had done that,\\nthese are the indicators of compromise, the things that I would see as clues that they had done that.\\nWell, generative AI is very creative.\\nIt might come up with some ideas that we could go do threat hunts on that I wouldn't have come up with on my own,\\nand we can keep feeding it more information about attacks that are happening out there,\\nand it can use its imagination, as it were, to come up with other scenarios that we could look for.\\nSo that could be useful.\\nHow about interpreting complex logs?\\nIf I see maybe a really complex command in a log, let's say a SQL command that I don't know the syntax for.\\nWell, you know, SQL, structured query language.\\nWell, large language models.\\nSo these things, these generative AI systems understand languages, they would understand SQL.\\nIt could tell me that command when executed, would have done the following.\\nI don't have to go look up the command and parse it all out and figure that myself.\\nThat would be a command line explainer of a sort.\\nIt could also help us with anomaly detection.\\nIn other words, looking for the weird kinds of situations that might occur out there and look for the outliers.\\nSo think of this almost as a bell curve, and normal users log in to a system.\\nThey do some stuff, then they log off.\\nThat's the stuff here in the middle.\\nBut that's not what we're concerned with in cybersecurity.\\nWe want to know about these outlier cases.\\nWe want to know about the guy that logged into the system,\\nelevated his privileges, did a bunch of stuff, erase the log records, and then de-escalated his privileges.\\nThat's an outlier.\\nThat's one that we want to look at.\\nSo it would be really good.\\nAI and specifically machine learning is particularly good at finding those kinds of things.\\nHow about recommending actions, telling us what it thinks\\nwe should do to correct a particular scenario, what are the mitigations that we should put in place?\\nWhatever remediations we could have put in place, It may not be right every time,\\nbut it's going to suggest some things that maybe we hadn't thought of.\\nAnd therefore, we can go through that and figure out which one of those things do we want to do and which ones not.\\nHow about if we had basically a cyber SME?\\nSomebody who understands the language of cybersecurity, understands the technology,\\nmaybe that has the intelligence of someone who's passed the certifications like the CISSP for cybersecurity professionals,\\nthat I could at any point in time just start asking it questions that would be really useful,\\nand that's something that a chat bot is particularly good at.\\nSo those are just a few.\\nHere's a really interesting use case, I think.\\nImagine that all all the time we're getting just bombarded with reports, with advisories.\\nThese things come out all the time.\\nEvery day I see another 4 or 5 advisories that come out.\\nAnd if I was a chief information security officer, I don't really want to read all of those.\\nI just want to know, am I affected?\\nHow about using AI to answer that question?\\nHow about we feed all of these things into a generative AI, which then is able to pull out,\\nWhat are the key findings from those reports?\\nThen it tells me what are the indicators of compromise that associate with those things.\\nThen it just runs a federated search out into my environment,\\ninto all of the corners and crevices of my environment,\\nand comes back and tells me the answer to the question, Am I affected?\\nDo we see those indicators were compromised?\\nRemember, this was really simple.\\nI take all this tons and tons of data and all I get back out from all of this is just, am I affected?\\nThat would be really great.\\nBut notice one of the things that's still needed in all of this is I still need a human in the loop.\\nNone of these things, even though we're automating some of this, it's still we need someone to ask the right question.\\nWe need someone to to run the threat hunt.\\nWe need someone to try to use their creative skills to come up\\nwith a lot of these things and sort out the things that are not particularly useful from all of this.\\nSo it's automating some things,\\nbut it's also creating the opportunity for humans to focus on different parts of the problem.\\nAnd why are we going to need that?\\nWell, that's on the con side here.\\nWe, because of AI, the bad guys are paying attention to this stuff as well, and they are not sitting still.\\nThey know that something they could do is we're talking about automating the recovery and some other types of scanning.\\nWhere are they going to automate?\\nWell, they might automate reconnaissance that is looking into systems and trying to figure out where vulnerabilities exist.\\nThey could automate other types of vulnerability scanning.\\nSo their own version, we're talking about doing pen testing,\\nthey're talking about doing vulnerability scanning, not so much difference.\\nThey could also automate some of their attacks.\\nThat is, if it knows what kinds of things need to be done to take advantage of a system.\\nThen they could just put that in an AI and have it automate all of those processes\\nand smartly look at the results that come back from that and figure out what are the next steps it needs to do.\\nThat's a lot smarter than just writing a script because here it's able to make adjustments.\\nHow about in the area of social engineering?\\nThis is where we basically try to fool people.\\nWe take advantage and basically impose on humans desire to trust each other.\\nWe do this all the time and we need to be able to do it to operate in societies,\\nbut social engineering, the people that are taking advantage of those attacks are doing things like phishing.\\nThey send out an email that makes you think it's coming from your bank or you want a contest or something like that.\\nYou log in.\\nThey steal your identity or they implant malware on your system or something like that.\\nThose kinds of attacks can be better automated with AI.\\nOne of the things that we have been teaching people about phishing attacks as a clue, that we now need to un-teach them,\\nis that phishing attacks often have bad grammar or bad spelling and things like that.\\nIf the attacker doesn't know a word of English but knows how to use a AI,\\nthey can use a generative AI to generate a phishing email that will be in perfect English.\\nSo if people are looking for those as clues, we they will not be thinking this is a phishing email.\\nThey were to lower their defenses against this and not be as skeptical.\\nWe need to override that.\\nHow about deepfakes?\\nThis is where we use generative AI to generate\\nan imitation of a person their voice, their likeness, their image and their motions, video calls.\\nWe've already seen a number of cases where companies have lost millions of dollars in Deepfake based attacks.\\nThat's another example of where AI will be used against us.\\nHow about disinformation attacks, where we're going to confuse people.\\nWe're not so great at figuring out what's fake news and what's real news.\\nDisinformation leveraged by AI,\\nleveraging deepfakes is going to be a really hard combination to overcome, in a lot of these situations.\\nPassword cracking.\\nSo in this case, a lot of times we have used a system\\nto go through and do a dictionary attack where\\nit takes certain words and runs those against a password database to see if it matches any of those things.\\nI won't go into the details of how that works, but if you had a smart password generator,\\nsomething that has read what passwords people use because\\nthere are dumps out on the internet of password databases that have been exposed.\\nSo we can look and see what kinds of passwords do people normally do?\\nWhat kinds of patterns do they use?\\nAnd it could generate really smart guesses,\\nnot necessarily just the things that are in the password dictionary,\\nbut smart, intelligent guesses that are more likely to be able to to be correct than in other cases.\\nHow about exploit generation?\\nIn this case, we could feed indicators of compromise into a generative AI and have it write code.\\nThat's one of the things these things can do is they can generate code.\\nThey can generate good code or bad code, and we could have it generate exploit code.\\nSo now the attacker doesn't even have to know how to write code.\\nThey could just get a description of a vulnerability, feed it into a chat bot and have it generate the the exploit code.\\nSame with malware.\\nThey don't have to know how to write viruses and things of that sort.\\nThey could have the chat bot take care of that for them.\\nAnd then ultimately AI, which companies are going to be using to do good things, is effectively a new attack surface.\\nThat is, it's another way that people are going to try to break into systems.\\nThey're going to break it in through the AI.\\nSo if I look at all of this, what is this summarized down to?\\nWell, we're going to see more attacks, as you can see, because these things are easier to do.\\nWe're going to therefore need better defenses.\\nIn order to guard against these attacks.\\nThat means we're going to need also more,\\nand here we go,\\nSMEs, subject matter experts, people who really understand cybersecurity to help increase those defenses,\\nand in fact, we've already seen that right now,\\nat the time of I'm recording this, there are more than 400,000 open cybersecurity jobs in the US alone.\\nThat's not looking at the worldwide number.\\nSo that means if we're asking the question, is AI going to take away some jobs?\\nYes.\\nSome of this stuff that was really not very much fun to do in the first place is going to go away or will assist with us.\\nWe're still going to need the human in the loop, though, to figure out how to defend against\\nthis now increasing attack space that's happening as a result of that AI.\\nOkay, let's summarize who's going to be doing what.\\nThe AI is going to do certain things that humans are going to do certain other things.\\nLet's use each one of them to their strengths.\\nSo, for instance, I might be pretty good at this business of threat detection.\\nSo it could be looking for all kinds of things, analyzing logs and things of that sort.\\nSo let's let it do that sort of work. How about log analysis.\\nAgain, looking at explaining what is in the log and what those commands would do,\\nit's going to be better than people for the most part at that, and then doing vulnerability assessments and vulnerability analysis.\\nIt's going to be particularly good at those kind of things,\\nbut we still need people.\\nWhy?\\nWell, because people are particularly good at this kind of stuff, at strategy.\\nAt planning, at things like figuring out what it is that we need to be doing in the first place.\\nThis is going to do what we ask it to do.\\nBut does it know what needs to be done?\\nWhat are the goals in the first place?\\nHow about problem solving?\\nWell, in some cases it seems like AI is able to do\\nproblem solutions for us, but it looks like it's reasoning and doing thought,\\nin fact, what it's doing is something different that looks close to that,\\nbut people are still probably better at doing some of these kind of problem\\nsolving, especially if it's new stuff that we've never seen before.\\nWhat we in security often refer to is black swan events, things that we don't see very often.\\nAnd then decision making.\\nSo I've got something to do here.\\nI've got to make a decision.\\nWhich one should I do?\\nWell, it turns out people are going to have a better understanding of what the organization is trying to do,\\nand what would be the optimal outcome from a lot of these things.\\nBottom line, I listed off a whole bunch of things on the previous portion of the video that humans will still need to be needed for.\\nWe still need humans in the loop on this.\\nSo another way to look at it is we're going to basically need less of of people doing investigations and things of that sort.\\nMaybe just doing the hard work of figuring out what's out there, who's done what to whom.\\nThat sort of thing, doing those manual steps of doing an investigation.\\nAnd another thing we probably won't need people to do as much of is coding.\\nSo if if you wanted one of those jobs where we basically slide pizzas under the door and you give us code out the other end, we're not going to need as much of that.\\nWe'll need some, but not as much because I can do a lot of that stuff.\\nHowever, instead of doing this stuff, we're going to be needing more of this kind of stuff like architecture and strategy.\\nThis is where we are actually using our higher order thinking capabilities,\\nour creative aspects, and using the kinds of things that we do best\\nand using this as a tool to help us free us up to do these kinds of things.\\nWe're going to see more attacks than we've ever seen before.\\nThey're going to be more complex than we've ever seen before.\\nAll of this is going to mean the attack surface and the weight that we have to lift is going to keep getting heavier.\\nAnd we don't have infinite number of people to do that.\\nSo how can we leverage the people that we do have?\\nAnd by the way, essentially the statistics tell us for every three people working in\\ncybersecurity, there is another open job that needs to be filled.\\nSo is AI taking all of that away?\\nNo, that's a lot of jobs that still need to be filled.\\nSo how can we get the most out of these people?\\nHow can we make it so that they can lift this huge weight?\\nWell, if you know about levers and fulcrum, the fulcrum here is a AI.\\nThis is the thing that's going to be the force multiplier\\nthat allows us to be able to deal with this because the bad guys aren't sitting still.\\nAI means they're going to be attacking in ways that they haven't before.\\nThat means we're going to have to be smarter.\\nWe're going to have to deploy better and smarter tools and use AI as a force multiplier just in order to keep up.\\nThat's not even getting ahead.\\nThat's just keeping our heads above water as best we can.\\nSo clearly, we still need a human in the loop with a lot of these decisions, strategy, architecture and things of that sort.\\nAnd, as we move forward, remember at the beginning the video,\\nI talked about each one of these eras of technology and how it\\ntook away certain jobs, but then it also created opportunities for other jobs.\\nWell, what are the critical skills?\\nThe critical skill, in my opinion, moving into this era of AI.\\nIt's critical thinking.\\nIt's the ability to determine what is real, what isn't.\\nWhat things should happen, what things shouldn't.\\nThe AI is going to suggest a lot of things, and some of them will be great\\nideas and some of them will be pretty crazy, at the end of the day,\\nwe need the humans in the loop to do the ultimate thinking.\\nAnd when you think about a company like IBM, our motto since the beginning has been this.\\nSo it's pretty appropriate that what goes around comes back around,\\nand the skills we need moving into the next generation are the skills that we've always needed.\\nWe just need a more now than ever.\")]\n"
          ]
        }
      ]
    },
    {
      "cell_type": "code",
      "source": [
        "prompt = ChatPromptTemplate.from_messages(\n",
        "    [(\"system\",\"\"\"\n",
        "      You are an expert information synthesis assistant. Your task is to generate a summary of a text provided.\n",
        "      The summary should be clear, structured, and convey all the essential information from the text.\n",
        "\n",
        "      Follow these guidelines:\n",
        "\n",
        "      Contextualization: Start with a brief introduction explaining the main theme of the topic.\n",
        "      Structure: Organize the summary into logical sections, such as main topics, relevant insights, and conclusions.\n",
        "      Detailing: Include explanations and examples mentioned in the text, avoiding generic phrases.\n",
        "      Tone and Style: Write in an objective and informative manner, without altering the meaning of the original content.\n",
        "      Highlights: If there are important facts, statistics, or quotes, highlight them in the summary.\n",
        "      Here is the text:\n",
        "\n",
        "      {context}\n",
        "\n",
        "      Now generate the summary following the above guidelines.\"\"\")]\n",
        ")"
      ],
      "metadata": {
        "id": "q06nxHcTaK45"
      },
      "execution_count": null,
      "outputs": []
    },
    {
      "cell_type": "code",
      "source": [
        "chain = create_stuff_documents_chain(get_llm(\"deepseek-r1-distill-qwen-32b\"), prompt)\n",
        "\n",
        "result = chain.invoke({\"context\": docs}, getLangfuseHandler())"
      ],
      "metadata": {
        "id": "XNhJKjr2bpT3"
      },
      "execution_count": null,
      "outputs": []
    },
    {
      "cell_type": "code",
      "source": [
        "import re\n",
        "\n",
        "def remove_think_content_and_tags(text):\n",
        "  \"\"\"\n",
        "  Removes all content between <think> and </think> tags, including the tags themselves, from a string.\n",
        "\n",
        "  Args:\n",
        "    text: The input string containing <think> tags.\n",
        "\n",
        "  Returns:\n",
        "    The string with all <think> and </think> sections removed.\n",
        "  \"\"\"\n",
        "  pattern = r\"<think>.*?</think>\"\n",
        "  cleaned_text = re.sub(pattern, \"\", text, flags=re.DOTALL)\n",
        "  return cleaned_text"
      ],
      "metadata": {
        "id": "UrW5DfqUdOxG"
      },
      "execution_count": null,
      "outputs": []
    },
    {
      "cell_type": "code",
      "source": [
        "# Remove the content between <think> </think>\n",
        "cleaned_result = remove_think_content_and_tags(result)\n",
        "\n",
        "# Print the cleaned content\n",
        "print(cleaned_result)"
      ],
      "metadata": {
        "colab": {
          "base_uri": "https://localhost:8080/"
        },
        "id": "si3EOhJFb2yj",
        "outputId": "a3f46bae-d666-41ef-86eb-241e71b2fdab"
      },
      "execution_count": null,
      "outputs": [
        {
          "output_type": "stream",
          "name": "stdout",
          "text": [
            "\n",
            "\n",
            "**Summary: The Impact of AI on Jobs in Cybersecurity**\n",
            "\n",
            "**Introduction:**\n",
            "The debate over whether AI will take jobs or create them is multifaceted, particularly in the cybersecurity field. While AI has the potential to automate certain tasks, it also opens up new opportunities, necessitating a balance between technological advancements and human expertise.\n",
            "\n",
            "**Historical Context:**\n",
            "Historically, technological advancements have reshaped employment. The shift from agriculture to industrialization and then to the IT sector demonstrates a pattern where technology eliminates some roles while creating others. This trend is expected to continue with AI, particularly in cybersecurity.\n",
            "\n",
            "**AI in Cybersecurity: Pros and Cons**\n",
            "\n",
            "- **Pros:**\n",
            "  - **Automation:** AI can handle repetitive tasks such as code reviews, penetration testing, and log analysis, enhancing efficiency.\n",
            "  - **Threat Detection:** AI excels at identifying anomalies and potential threats, improving security measures.\n",
            "  - **Efficiency:** Tools like generative AI can summarize complex data, aiding in decision-making and reducing manual workloads.\n",
            "\n",
            "- **Cons:**\n",
            "  - **Malicious Use:** AI can be weaponized for attacks, such as sophisticated phishing, deepfakes, and exploit generation, increasing the complexity and volume of cyber threats.\n",
            "  - **Job Displacement:** Certain roles, especially those involving repetitive tasks, may become obsolete, though new roles requiring strategic and creative skills will emerge.\n",
            "\n",
            "**The Future of Jobs:**\n",
            "The cybersecurity landscape will require a blend of AI and human skills. While AI handles routine tasks, humans will focus on strategic planning, critical thinking, and addressing unprecedented threats (\"black swan events\"). The demand for skilled professionals is high, with over 400,000 cybersecurity jobs open in the U.S., highlighting the need for a workforce adept at leveraging AI as a tool rather than a replacement.\n",
            "\n",
            "**Conclusion:**\n",
            "AI will transform cybersecurity by automating tasks and enhancing defense mechanisms, but it will also necessitate a human touch for strategic oversight and creativity. The future lies in harnessing AI's capabilities while valuing human intuition and critical thinking, ensuring a resilient and adaptive cybersecurity workforce.\n"
          ]
        }
      ]
    }
  ]
}