{
  "nbformat": 4,
  "nbformat_minor": 0,
  "metadata": {
    "colab": {
      "provenance": [],
      "authorship_tag": "ABX9TyOpM0bBQV65xG/r29a6n9VQ",
      "include_colab_link": true
    },
    "kernelspec": {
      "name": "python3",
      "display_name": "Python 3"
    },
    "language_info": {
      "name": "python"
    }
  },
  "cells": [
    {
      "cell_type": "markdown",
      "metadata": {
        "id": "view-in-github",
        "colab_type": "text"
      },
      "source": [
        "<a href=\"https://colab.research.google.com/github/avcesar1981/llm_tutorials/blob/main/summarization/summary_refine.ipynb\" target=\"_parent\"><img src=\"https://colab.research.google.com/assets/colab-badge.svg\" alt=\"Open In Colab\"/></a>"
      ]
    },
    {
      "cell_type": "code",
      "execution_count": 24,
      "metadata": {
        "id": "0i3tze6HmzaP"
      },
      "outputs": [],
      "source": [
        "#!pip install python-dotenv langfuse langchain langchain_community langchain_groq langgraph tiktoken\n",
        "import os\n",
        "from dotenv import load_dotenv, find_dotenv\n",
        "from langchain_groq import ChatGroq\n",
        "from langchain_community.document_loaders import TextLoader\n",
        "from langchain.text_splitter import RecursiveCharacterTextSplitter\n",
        "from langchain_core.prompts import ChatPromptTemplate\n",
        "from langfuse.callback import CallbackHandler\n",
        "from langchain_core.runnables import RunnableConfig\n",
        "from langchain_core.documents import Document\n",
        "from langchain_core.output_parsers import StrOutputParser\n",
        "from langgraph.graph import END, START, StateGraph\n",
        "from langfuse.callback import CallbackHandler\n",
        "from typing import List, TypedDict\n",
        "\n",
        "from google.colab import userdata"
      ]
    },
    {
      "cell_type": "code",
      "source": [
        "# Load environment variables\n",
        "load_dotenv(find_dotenv())\n",
        "\n",
        "# Langfuse tracing\n",
        "langfuse_handler = CallbackHandler(\n",
        "    public_key=userdata.get('LANGFUSE_PK'),\n",
        "    secret_key=userdata.get('LANGFUSE_SK'),\n",
        "    host=userdata.get('LANGFUSE_HOST')\n",
        ")"
      ],
      "metadata": {
        "id": "LzWLIpEnpcBS"
      },
      "execution_count": 4,
      "outputs": []
    },
    {
      "cell_type": "code",
      "source": [
        "def getLangfuseHandler():\n",
        "    config = RunnableConfig(callbacks=[langfuse_handler])\n",
        "    return config"
      ],
      "metadata": {
        "id": "ws4BFsWzpzmX"
      },
      "execution_count": 5,
      "outputs": []
    },
    {
      "cell_type": "code",
      "source": [
        "def get_llm(model_name: str):\n",
        "    return ChatGroq(model=model_name, temperature=0, api_key=userdata.get('GROQ_API_KEY'))"
      ],
      "metadata": {
        "id": "Nh2uAUc8qKEV"
      },
      "execution_count": 6,
      "outputs": []
    },
    {
      "cell_type": "code",
      "source": [
        "def split_docs(docs):\n",
        "    text_splitter = RecursiveCharacterTextSplitter.from_tiktoken_encoder(chunk_size=4000, chunk_overlap=0)\n",
        "    split_docs = text_splitter.split_documents(docs)\n",
        "    return split_docs"
      ],
      "metadata": {
        "id": "3iAf7XXxs5lH"
      },
      "execution_count": 8,
      "outputs": []
    },
    {
      "cell_type": "code",
      "source": [
        "loader = TextLoader(\"/content/sample_data/summary_refine.txt\")\n",
        "docs = loader.load()\n",
        "docs"
      ],
      "metadata": {
        "colab": {
          "base_uri": "https://localhost:8080/"
        },
        "id": "T8TjCa6eqM0R",
        "outputId": "d5b505dc-58a7-424f-e7b6-e6f8f2ea0f22"
      },
      "execution_count": 7,
      "outputs": [
        {
          "output_type": "execute_result",
          "data": {
            "text/plain": [
              "[Document(metadata={'source': '/content/sample_data/summary_refine.txt'}, page_content=\"welcome everyone to this special edition\\nof Monday match analysis I'm Gil gross\\nand it is time for a preview of the 2025\\nAustralian Open men's final between\\nyanic Sinner and Alexander verev cner\\nwinner of the last two hardcourt slams\\nhe looks to make it three and snatch the\\nthird major title of his career Zev\\ngoing for Numero Uno it is his third\\nopportunity at that\\nI will go through both players paths to\\nVictory I'll make a prediction at the\\nend I've already made a YouTube video\\nreacting to jovic's retirement against\\nverev in the semifinal that is not going\\nto go up on audio so that's YouTube\\nexclusive but what I will talk about on\\nthis particular show which will be\\navailable on all podcast platforms uh is\\nthe second semifinal played last night\\nyanx CER straight set win over Ben\\nShelton very nearly was not as Ben broke\\nCenter sered twice in the first set\\nreally\\nimpressively served for the opening set\\nat 65 had two set points just couldn't\\nget over the\\nline I think if he just kept it a little\\nmore steady on the forehand made 19\\nforehand errors in the first set that\\nwas probably the difference when you\\nlook at how slim the margins were\\nespecially\\nbecause towards the end of the set and\\nand in some big spots in the tie break\\nin that 65 game there were some forehand\\nerrors that were avoidable from\\nattacking positions or neutral\\npositions what I have to say about\\nShelton's forehand I nothing bad to say\\nabout the technique at all nothing bad\\nbut I do think they can get it a little\\nmore consistent in the sense that\\nsometimes you watch Shelton he'll hit\\nfive forehands and all five might look a\\nlittle bit different as far as the\\nposition\\nthe balance the\\nFinish you just don't feel like he's\\nmachine likee in his stroke production\\nlike most of the most consistent players\\nare the players who don't miss a lot\\nright if you look at like jokovic or\\nBautista gut or my man ferer who I\\nalways have to mention whenever I get a\\nchance they hit 10 forehand and all 10\\nforehand look almost the same same and\\nthat's part of building consistency\\nShelton's just not really that that guy\\nmaybe he'll never quite be that guy as\\nfar as I'm going to be an ultra\\nconsistent player but I I think there is\\nsome variance that he can cut out on the\\nforehand side and probably get it a\\nlittle more consistent uh but ultimately\\nI don't think the forehand was the main\\nproblem I think it was the difference in\\nthe first set but if you look at the\\nGrand scale of the\\nmatch the forehand was\\nalmost the the byproduct the forehand\\nerrors were almost a\\nbyproduct of Shelton's Chief\\nweapon not winning enough for him the\\nserve the Shelton serve against the cner\\nreturn strength on strength to a certain\\nextent although cner has a lot of other\\nstrengths but if you just look at that\\nhead-to-head I I don't think there's any\\ndebate about\\nwhich side won it was the center\\nreturn I I started tracking it from the\\n65 game and I went back because when I\\ninitially watched the 65 game in the tie\\nbreak uh I was like wow I don't think\\nShelton got any free points I just don't\\nthink it happened so I went back and I\\nlooked 11 out of 12 First Serve points\\nin the 65 game because that was a long\\ngame went to multiple\\nDeuces they came back into play so 11\\nout of 12 and then in the tie break it\\nwas out of five so down the stretch of\\nthe first set Shelton plays 17 service\\npoints he gets one cheapy he gets one\\nUNR\\nreturned\\nso he's constantly being asked to\\nexecute off the ground over and over and\\nover again against a great mover and a\\ndefender in center that is too much\\npressure on that forehand so you might\\nlook at the stat sheet you see 19 foren\\nerrors you see a set that was really\\nclose um obviously I think think he was\\na couple of executed forehand away from\\nwinning the first set but\\nalso I think if you're Ben you just need\\nthe serve to give you some more help and\\nif you're Center you know that if you\\nneutralize the serve to that extent\\nBen's going to give you some mistakes\\nand that's what ended up happening you\\ncan also look at first serve points one\\n57% first serve points one that is the\\nlowest of Shelton's career in a four\\nlevel hardcourt\\nmatch but I don't think Shelton had an\\natypically bad serving\\nday I think that's more about cner cner\\nis the best returner he goes up against\\nand here's a little little tick in that\\nargument some some support for that\\ntheory the second worst first serve\\npoints one performance of Ben Shelton's\\ncareer was also against Yanik siner when\\nthey played in Indian Wales he was 57.1%\\nfirst serves one in the semifinal last\\nnight he was\\n57.4% first serve points W when they\\nplayed at Indian\\nWales so this is one of the bigger\\nservers in the\\ngame and that's two matches in a row\\nbecause I I I don't think they've played\\nin between I think that's two matches in\\na row um\\nwhere Center gets him below 60 % on\\nfirst serve points one that's\\nremarkable again I I think it's janik's\\nlength on the return of serve I think\\nit's his um ability to kind of deal with\\nthe the heavy spin the heavy action on\\nthat serve he doesn't appear very\\nbothered by it he hits the backhand\\nreturn so well uh when he's stretched\\nout so\\nShelton he he likes the slice serve he\\nlikes the kick to the righty backand and\\nI just think you yanic when when his\\ncontact point is upstairs above the\\nshoulders or he has to you know he gets\\nstretched out on the two-hander um and\\nhe does such a good job of keeping two\\nhands on it like Novak uh does such a\\ngood job of\\nthat that that's where you see that\\nfirst serve points one percentage being\\nreally really low and the ace number\\nbeing really low we know he has the\\nlength and he has the athleticism what's\\nthe what's the fix for Shelton I'll just\\nsay this I don't think there's any\\nplacement for hitting bombs into the\\ncorner and that's ultimately I think\\nwhat it's going to take if you want your\\nserve to do the heavy lifting against\\nyanic Center you're going to have to hit\\nbombs into precise\\nlocations and too often I think CER is\\ntaking is is sacrificing pace for\\nSpin and he's hitting a slice and he's\\nhitting a\\nkick I just it's not G to it doesn't do\\nthe trick jannik's too good that's my\\ntwo\\ncents I think the only guys let's see if\\nZev we'll talk about Zev serving and if\\nif his serve can kind of make it easy on\\nhim what that's going to take can Zev\\nhit bombs into the corners on a\\nconsistent basis the only guys who I\\nthink definitely can right now are herot\\nopela and pachy perart and Shelton as\\ngood as his serve is not at that level\\nyet with the Precision and the pace\\nconsistently other things that stood out\\nto me from Sinner's perspective uh the\\nway he is able to take that backhand On\\nThe Rise Against Shelton's heavy\\nforehand\\ncross really exceptional you know just\\nconstantly hitting clean\\nbackhands against uh against Shelton's\\ncrosscourt forehand and also finding a\\nton of angles we talk so much about how\\nforehands are more effective across the\\nboard than back than two-handed backand\\non the tour these days and a lot of that\\nis because lower spin rates less feel on\\nthe twoh handers for the most part makes\\nit really hard for so many of these\\ntwo-handed backhands to open up angles\\nto to spread the court with their\\nbackends so it's not just because this\\nit's not just because the spin rates are\\nlower and the pace is lower but it's\\nalso because guys aren't hitting these\\nsharp angles as easily it it comes more\\nnaturally on the forehand Center has\\nalways been a player who seems to have\\nno problem just opening up angles with\\nthe backhand he really seemed to lean\\ninto that against Ben it went to work on\\nShelton's legs it paid dividends later\\nin the match and it just seemed that\\nShelton was on the move so often in this\\nadside crosscourt exchange one that\\nShelton would really want to win because\\nhe does have a bit of a Firepower\\nAdvantage if he's hitting forehands and\\nCenter's hitting backhands but he can't\\nreally use that Firepower Advantage when\\nhe's constantly\\nrunning he needs to set his feet in\\norder to actually like land aggressive\\nforehands down the line and it it just\\nseemed like Shelton when he did go\\nforehand line it wasn't high percentage\\nbecause the backhands crossed from\\nCenter were just coming in with too much\\nquality another thing uh Shelton's\\nbackand clearly\\nimproved it was really consistent\\nthroughout the\\nevent and that's going to help him win\\nmore matches there's no doubt about it\\nbut against a player like\\nCER it is still a safe\\nspace against a player who who beats Ben\\nfrom neutral more often than most\\nplayers more often than basically\\nanybody\\nelse the the the fact that the backend\\nis a safe space where if if Yanik makes\\na return to the backend if Yanik from a\\ndefensive position is able to find the\\nback end he pretty much gets back in the\\npoint that is very that is a very\\nmeaningful Escape valve for a player in\\nCenter who is skilled enough to kind of\\nmanipulate the ball uh into precise\\ntargets from extreme positions on the\\ncourt\\nso for example when Ben actually takes\\nthat forehand line\\nand and he he hits it well and he he\\nhits it\\nsolid but Center's able to defend with\\nthe forehand\\ncross that next shot as long as CER is\\nable to get enough on the ball to avoid\\nShelton's runaround that next shot is a\\nbackhand and what is able is Ben able to\\nstay on top of the point with that next\\nbackhand that is still not quite there\\neven though the two-hander for Shelton\\nlooked much better much less like a\\nweakness in these Baseline\\nrallies it's still not a weapon which\\nmatters against a guy like Center and\\nCenter's defense while we're at it\\nincredible in this match so good so even\\nfrom attacking\\npositions I thought he was able to steal\\nplenty of points Shelton's soft skills\\ngood not great Shelton's forehand big\\nnot\\nautomatic and that's why Yanik could\\nsteal some points when he was playing\\nfrom behind by making Ben play some\\nextra\\nballs the only negative for Center here\\ntwo all in the third looks like he\\nstarted cramping a little bit they\\nweren't bad cramps they seem to have\\nkind of they subsided at a certain point\\nYanik just like we saw in the whole\\ngaruna match showed great toughness\\ndidn't let his game completely collapse\\neven when his legs were sort of failing\\nhim a little bit and uh luckily for\\nyanic Ben's legs at this point were also\\ntoast so it didn't cost him he actually\\ndidn't lose any games after two in the\\nthird he won the third set 6'2 but you\\ndid see some physical vulnerabilities\\npop\\nup and that's sort of the that's why\\nmaybe Center for this match gets an A\\nminus instead of an A or an\\nA+ Shelton great\\nrun definitely got some draw help some\\ndraw luck but it I feel like we've seen\\nEvery Time Shelton has had an\\nopportunity at a slam with the with a\\ndraw opening up he's made the absolute\\nmost of it you know you definitely want\\nto play Lorenzo Sono in a quarterfinal\\nget a retirement from mon in the fourth\\nround play Lorenzo MTI on a hard court\\nif you're going to play him anywhere you\\nwant him on a hard court uh so like\\nthere is\\ndefinitely there was definitely some\\nopportunity here for Ben based on how\\nthe draw played out uh but he just\\ncontinues to come through uh when when\\nhe has these chances especially at the\\nslams where now even though you only get\\nfour majors a year and you get nine\\nMasters 1000s a year Ben has two major\\nsemifinals three major quarterfinals and\\nI believe he has in total three Masters\\nquarterfinals and no semifinals I\\nthought his movement looked better than\\never his play on the run his ability to\\nmake balls on the Move better than ever\\nbackhand more consistent than ever he's\\ngot tougher from the back of the Court\\nwhile maintaining his offensive\\naggressive\\nidentity all right let's get to the\\nfinal but before we do that a reminder\\nthat it's easier than ever to consume\\nMonday match analysis in 202 5 for the\\nfirst time this year I'll have exclusive\\nshort form content on Instagram Tik Tok\\nand our new YouTube shorts Channel\\ncalled Gil gross shorts if you're going\\nto follow me on just one I recommend you\\ndo it on Instagram because that is where\\nI'll share the most but if any of those\\nplatforms or things interest you please\\ngive me a follow links are in the\\ndescription let's get to the final and\\nlet's begin with the\\nhead-to-head Alexander verev leads the\\nhead-to-head over yanic sinner\\n42 their latest meeting and their only\\nmeeting post US Open\\n2023 which is kind of the Line in the\\nSand that you draw when did yanic sinner\\nbecome an absolute World beater you you\\nsort of Look At Us open 2023 where by\\nthe way he lost his ver in five sets\\nafter that he became the best player in\\nthe world pretty much\\nright um they've only played once since\\nthen it was Razer tight Cincinnati\\nsemifinals last\\nyear went to a third set tie break so\\nthere's almost nothing between the two\\nthe other Center win was the first time\\nthey played it was yanuk Center's first\\nBig Splash his first big win against the\\ntop player against verev at rangos in\\n2020 Sasha was a little bit the weather\\nin that\\nmatch um and I think in the grand scheme\\nof things Zev has always been a major\\nchallenge for yanuk when CER relied on\\noverwhelming players with Pace when that\\nwas kind of what he did Zev was one of\\nthose players who was going to absorb\\nthat pace no problem and was going to\\nbeat center with consistency and\\nphysicality from there\\nand those sorts of players were cers\\nKryptonite you can throw in Novak\\njokovic you can throw in denil meddev\\nCenter didn't like playing those guys\\nand as yannik brought on Simone vagos\\nand Darren Cahill and went to work on\\nhis game it was finding a solution for\\nthose kinds of players that was sort of\\nhow he\\nwas designing his Improvement plan and I\\nI think there were two parts to that one\\nof them\\nwas develop solutions to play these guys\\nand another was become these\\nguys\\nso not only am I going to create\\nsolutions for what they do well but I'm\\ngoing to try to match them in a lot of\\nthe things they do well when I talk\\nabout Solutions I'm talking about\\ncreative attacking instead of relying so\\nmuch on trying you know using linear\\nPace to attack these guys who are so\\ngood at absorbing the linear Pace I'm\\ngoing to\\nintroduce more angles more short angles\\nto my game I'm going to get comfortable\\nhitting Drop shots I'm going to get\\ncomfortable coming forward and and\\nfinishing with\\nvolleys and then the anti Solutions\\nthe I'm going to match these guys where\\nwhere they beat me I'm going to become\\nthat well we know that there's been a\\nhuge consistency Improvement for\\nCenter he just makes way more balls in\\nplay now whether it\\nbe uh defensively or just from neutral\\nor even\\nattacking just doesn't miss as much as\\nhe used to and a huge Fitness\\nImprovement has been at the core of that\\nand the root of that as consistency\\nimprovements so often\\nare and that is why we've seen\\nCER play better against jokovic play\\nbetter against medv and with Zev it's\\nkind it kind of hasn't played out cuz\\nthey haven't played much they've only\\nplayed that one time in Cincinnati since\\nyanic got so much better at all these\\nthings uh but when I'm looking at this\\nhead-to-head and specifically how they\\nmatch up that's how I'm looking at it\\nI'm looking at it as yep Z had Sinner's\\nnumber there's no doubt about it but we\\nhave seen sinner specifically Focus his\\nimprovements on getting better at\\nbeating players likes\\nverev that\\nsaid let's start with zev's path to\\nVictory here and I still think if I'm\\ngoing to give you one word for how verah\\nbeats Center attrition I still think\\nattrition is how Sasha would do it that\\nis by the way how he beat Center at the\\nUS Open in\\n2023 that was an\\nunbelievably physical match on a very\\nhumid day\\nin New\\nYork uh but I think if you look at some\\nother things that are a little bit more\\nrecent a little bit more concrete well\\nCenter has had some moments at this\\ntournament against Runa woke up not\\nfeeling well it doesn't seem like that's\\nbeen a long-term thing doesn't seem like\\nyanuk is actually sick right uh but\\nbetween that where he was a little\\nvulnerable physically in that match and\\nthen the one thing in the Shelton match\\nhe looked pretty much Dynamite other\\nthan maybe a somewhat slow start looked\\npretty much dynamite in that match\\nbut cramped a little bit in the third\\nset Zev meanwhile I talked about this\\nbriefly in my latest video he has been\\nso efficient first of all he focused on\\nhis Fitness more than anything in the\\noff season he's brought back the Supreme\\nfitness trainer jez green\\nto sort of build up his uh his physical\\ntoughness which didn't really need to be\\nbuilt up anymore but he's tried to take\\nit even a step further and he hasn't\\nplayed any long matches here which\\nnormally at this stage in a major event\\nyou have not been able to say about\\nAlexander Vera throughout his career he\\nhas been known to get into one or two\\nWars early on and Majors that has cost\\nhim numerous occasions at this stage in\\nslams will not be the case this time so\\nZev I I truly believe Zev will be able\\nto go 6 hours here I really\\ndo\\nCenter also bigger picture in his\\ncareer yanic fans probably don't want to\\nhear this\\num but I still believe that it's\\nprobably the only area where he is still\\nunproven five set trenches five set\\nbattles now this is mostly because\\nCenter's been too good he's been too\\ngood not a lot of players have been good\\nenough to face yanic Center and actually\\nsurvive four hours with him they haven't\\nbeen good enough to take him into a\\nfifth set that is why that is the main\\nreason why Center is unproven in a five\\nset battle he he did not play a five\\nSetter um in his last slam run uh his\\nfive set\\nrecord against top 20 players in his\\ncareer\\nis two wins eight losses he has lost\\nfive of his last six five set matches\\ntotal and that one win is a famous win\\nit is the denil Medvedev win in the\\nAustralian Open final from down two sets\\nto love and that win was awesome that\\nwas a win where he got better and better\\nas the match went on but he was playing\\na dude who obviously he had a physical\\nadvantage over meddev there denil came\\nin\\nseverely compromised physically which\\nexplained his play style in the first\\ntwo sets which worked his play style\\nworked and it was executed remarkably\\nwell which was difficult for Yanik but\\nit caught up to him like the fact that\\nhe was so physically compromised caught\\nup to him and therefore I I just don't\\nfeel like you can take that final alone\\nand be like yeah sinner has already\\nshown us he has proven that he is ready\\nto play a five set war against an elite\\nplayer now do I do I doubt that he\\ncan I do not doubt that he\\ncan but do I think it favors verev yes\\nyes I do I absolutely do let's get into\\nsome tactics I'm not going to go into\\nthe mental stuff before we talk about\\nSinner and then I'll introduce the\\nmental stuff\\nbecause that's a storyline coming in no\\ndoubt about it\\ntactically for\\nZev I think a lot of forehand down the\\nline is going to be key the backand a\\nbackhand pattern favors him more than\\nthe forehand a\\nforehand and if you're going to find if\\nyou're going to get into the backhand a\\nbackand\\nexchange you need to change out of the\\nforehand to forehand and take it\\nline plain and simple so how often is\\nverev going to be able to break things\\nup in that pattern\\nthe other thing for Zev and this is sort\\nof on topic with what we talked about in\\nthe CER Shelton\\nbreakdown if Z feels like his serve is\\ncoming\\nback he needs to start going closer to\\nthe lines he needs to be malleable\\nthere meaning let's say he serves at his\\ntypical 72% first serves in but the\\nfirst serve is coming back on a regular\\nbasis and it's getting neutralized\\nthat's not a good serving day that's not\\nenough it's it's great against most\\nplayers yanic Center is not most players\\nso if Z is if serving 72% but the serve\\nis not\\ndamaging I think Sasha needs to be open\\nto all right we need to shrink the\\nmargins here it's time to play the serve\\ncloser to the lines\\nand maybe that percentage is down to\\n60% I'm just going to have to hit good\\nsecond\\nserves and win some second serve points\\nso be it but there needs to be a\\nmalleability there because I have seen\\nZev against a lot of elite returners in\\nbig matches and that serve it has not\\ntaken him far enough so he needs to not\\ngo down the path of Ben Shelton here\\nthat's going to be key in my\\nopinion uh third third thing last thing\\nI think there should be a ton of serve\\nplus approach to keep center from\\nturning around points yanuk is is so\\nincredible at this at this stage and\\nbecause\\nverev is not always the most\\nclinical in terms of finishing points\\nfrom behind the\\nBaseline uh but I think what what he is\\npretty good at is behind the serve when\\nhe he has good Court position take that\\nfirst ball early and aggressive and just\\ncome in\\nand I really think that Zev needs to\\nhave that mindset now it goes a little\\nbit against the attrition thing because\\nit it falls into the short the point\\nshortening category a bit but what what\\nZev was doing against jokovic in the\\nfirst set and it's something that he\\nloves to do against a lot of players\\nreturn games is when you grind serve\\nserve points you don't mess around with\\nservice points you you try to win them\\nas cleanly and as efficiently as\\npossible and I think that path to\\nefficiency is a lot of serve plus\\napproach and that's something that I\\nthink he needs to lean on heavily let's\\nget in yanic Center's\\npath and for me if if I say the path for\\nZev is\\nattrition if I'm simplifying yanic\\nSinner's path into one sentence it is\\nforehand\\nFirepower\\nAdvantage now verb's forehand is\\nunderrated against 90% of competition\\nits reputation\\nis is probably way worse than what it\\nactually is because it's it it's failed\\nhim under pressure it's failed him in\\nbig matches so then the result of that\\nis oh ver of's forehand is crap you\\ntotally understand how that could happen\\nbecause when everybody's watching when\\nit's time to beat a top player at a slam\\nat you\\nknow these are the moments people\\nremember and the the memories of zev's\\nforehand in these moments not great so\\nI'm not blaming anybody but I just want\\nto make the point that zev's forehand\\nhas a lot of redeeming features he\\ndoesn't miss a lot it's very very\\nconsistent but can he keep it out of\\ntrouble against yanic C's forehand\\nmeaning when he's playing forand on the\\nRun forehand under pressure can he\\nachieve enough enough uh depth enough\\nPace to to keep siners forehand from the\\ndue side of the court at\\nBay and I've got my doubts but that's\\ngoing to be what Yanik is looking for\\nmakes verev hit Four Hands On The\\nRun look for the crosscourt off of that\\nand look for blood on the next ball\\nthat's the play and that starts with\\nCenter I think we're going to see a lot\\nof off back hands from the middle of the\\ncourt so taking the backhand inside out\\nuh and I think we're going to find a lot\\nof backhands down the line with safety\\nfrom yanuk because it's the same thing\\nlike Z taking his forehand down the line\\nwell Center's going to do the same thing\\nI want my forehand to forehand\\npattern when they are in the backhand to\\nbackand\\nexchange I think Center needs to slice a\\nlot or he should slice a lot jokovic by\\nthe way in the first set before he\\nretired he was hitting way more slice\\nthan you normally see Novak and Andy Mur\\nthey know a little something they know\\nwhat they're\\ndoing takes verev out of his comfort\\nzone uh out of his defensive comfort\\nzone which means bring him inside the\\ncourt and lower his contact\\npoint and that is where you take the\\naggression you take the uh venom out of\\nhis backand and you take his defensive\\npositioning you compromise his def of\\npositioning uh and these are great\\nthings to do against verev because it's\\nreally hard to hit through him when he's\\nkind of moving laterally 7t behind the\\nBaseline even more 8T behind the\\nBaseline and just chilling back there\\nreally hard to hit through him and the\\nback end is\\nalso unattackable like always\\nunattackable when you let him find his\\ncontact points you know between his\\nshoulder and and his hip you're never\\nreally going to get anything to attack\\noff of that unless he's super\\ntight so slice the backand if you're\\nionic Center I also think in The backand\\nbackand Exchange Drive the backand right\\ndown the middle you are more afraid of\\nzev's stationary backhand slightly off\\ncenter than you are his middle forehand\\nzev's middle\\nforehand probably not going to hurt you\\noff of it but when he's hitting his back\\nhand from just off\\ncenter um he loves to build points with\\nthat maybe he's not going to blow the\\nball past yanuk with the two-hander but\\nhe will take control and and find short\\nballs if he has comfortable back hands\\nhe's so good at\\nthat lastly when Center has a chance to\\nstep in and attack I think we got to see\\na lot of Drop shots um and especially\\nlook this comes back\\nto once again how difficult it is to hit\\nthrough Zev when he gives ground when he\\ngives ground you got a drop shot and zv\\npasses extremely well\\nso I think a lot of the balls that\\nshould that would ordinarily be approach\\nshots any ball that is coated or read\\nfor Center as an approach shot I think a\\nhigh percentage of those balls should\\nend up being Drop shots that doesn't\\nmean don't approach or follow it into\\nthe net uh of course it's great to\\nfollow in your drop shot to the net in\\nfact I think generally if you're able to\\nyou should um\\nbut I'm just saying off of a short ball\\nwhere Center has an opportunity to step\\nin the drop shot needs to be a very very\\nfrequent play there against verev the\\nway he positions himself that is the\\nopen place that's the open space on the\\ncourt it just\\nis I want to kind of end\\non the mental stuff I think that\\nis in favor of\\nSinner and I guess this plays into my\\nprediction as well uh cner has been the\\nmost clutch player in the world case in\\npoint he's won 23 of his last 26 tie\\nbreaks and that on paper is the biggest\\nmismatch with Zev Scar Tissue having\\nbeen up two sets to love in his first\\nmajor final having been up two sets to\\none in his second major\\nfinal didn't look all that free against\\nNovak jokovic in the\\nsemi-final looked kind of\\ntight\\num he knows academically he knows that\\nhe needs to accelerate on the forehand\\nin big moments but does he have that\\ndeeply ingrained trust in order to do it\\nand the\\nanswer the answer maybe\\nno uh I do think that Zev seems a lot\\nmore relaxed uh uh this week uh this\\ntournament a lot more self-aware of the\\nthings that he needs to do better\\nso the The Vibes with Sasha I can't put\\nmy finger on it but I trust his clutch\\nright now probably more than I ever\\nhave but it's still an advantage for\\nCenter if things get super tense you\\njust know that like the way yanuk has\\nbeen playing you know that there's no\\ndoubt\\nthere's no doubt in his mind about how\\nhe needs to play and his confidence in\\nhis limits his\\nlimitations um and he just man the the\\nway he's been playing the big points in\\nthe last two years there is no replacing\\nthat level of confidence so the way I\\nlook at this matchup outside of that\\nmental Advantage for Center uh the\\nneutral Baseline trading is a tie it's a\\ntie credit to Zev like very few players\\ncan say that against yanic Center that\\nit's a tie but I think it's a tie it's\\nin the attack and in the defense where I\\nthink Center is just more Dynamic\\nattacking yanuk gets inside the court\\nmore often he hits the forehand bigger\\nhe's developed a really really superb\\ndrop shot and I think all of those\\nthings are going to come to the\\nForefront uh defensively Center is\\nquicker he's much better at turning\\npoints around out of his forehand Corner\\nespecially that's why I say he's more\\nDynam dnamic from attacking situations\\ndefensive situations what Zev does have\\nas far as attack is the bigger serve but\\nI doubt it makes a massive impact I just\\nthink Center's return is good enough\\nwhere he does not let Zev serve take\\nover this match so I've C Center in\\nfour um I hope this match surprises me\\nin some way I say that because these two\\nguys in a word are very programed\\nMed like some players are creative and\\nartsy artistic these guys are programmed\\nand I just want to be surprised by\\nsomething in this match because to me\\nthat's what makes it fun I don't know\\nwhat that surprise may be and maybe we\\nwon't be surprised but that's my hope\\nfor this final and uh I'll leave you by\\nwith that hope you enjoy the match\\neverybody hope you enjoyed this don't\\nforget to subscribe I'll see you next\\ntime\")]"
            ]
          },
          "metadata": {},
          "execution_count": 7
        }
      ]
    },
    {
      "cell_type": "code",
      "source": [
        "llm = get_llm(\"deepseek-r1-distill-qwen-32b\")"
      ],
      "metadata": {
        "id": "OyYPUcm-tRbk"
      },
      "execution_count": 9,
      "outputs": []
    },
    {
      "cell_type": "code",
      "source": [
        "split_docs = split_docs(docs)"
      ],
      "metadata": {
        "id": "NOelbkTwtdSV"
      },
      "execution_count": 12,
      "outputs": []
    },
    {
      "cell_type": "code",
      "source": [
        "summarize_prompt = ChatPromptTemplate.from_messages(\n",
        "    [(\"system\",\"\"\"\n",
        "      You are an expert information synthesis assistant. Your task is to generate a summary of a text provided.\n",
        "      The summary should be clear, structured, and convey all the essential information from the text.\n",
        "\n",
        "      Follow these guidelines:\n",
        "\n",
        "      Contextualization: Start with a brief introduction explaining the main theme of the topic.\n",
        "      Structure: Organize the summary into logical sections, such as main topics, relevant insights, and conclusions.\n",
        "      Detailing: Include explanations and examples mentioned in the text, avoiding generic phrases.\n",
        "      Tone and Style: Write in an objective and informative manner, without altering the meaning of the original content.\n",
        "      Highlights: If there are important facts, statistics, or quotes, highlight them in the summary.\n",
        "      Here is the text:\n",
        "\n",
        "      {context}\n",
        "\n",
        "      Now generate the summary following the above guidelines.\"\"\")]\n",
        ")"
      ],
      "metadata": {
        "id": "Ol80-hmnv82h"
      },
      "execution_count": 14,
      "outputs": []
    },
    {
      "cell_type": "code",
      "source": [
        "refine_template = \"\"\"\n",
        "        Generate a final summary.\n",
        "\n",
        "        Partial summary up to this point:\n",
        "        {existing_answer}\n",
        "\n",
        "        New context:\n",
        "        ------------\n",
        "        {context}\n",
        "        ------------\n",
        "\n",
        "        Given the new context, refine the partial summary.\"\"\"\n",
        "\n",
        "refine_prompt = ChatPromptTemplate([\n",
        "    (\"human\", refine_template)\n",
        "])"
      ],
      "metadata": {
        "id": "_aA22vdFwBCB"
      },
      "execution_count": 20,
      "outputs": []
    },
    {
      "cell_type": "code",
      "source": [
        "initial_summary_chain = summarize_prompt | llm | StrOutputParser()\n",
        "refine_summary_chain = refine_prompt | llm | StrOutputParser()"
      ],
      "metadata": {
        "id": "m9TQ-XsTwVLV"
      },
      "execution_count": 21,
      "outputs": []
    },
    {
      "cell_type": "code",
      "source": [
        "# Define state for LangGraph\n",
        "class State(TypedDict):\n",
        "    contents: List[str]\n",
        "    index: int\n",
        "    summary: str"
      ],
      "metadata": {
        "id": "udF2N35BxwVR"
      },
      "execution_count": 25,
      "outputs": []
    },
    {
      "cell_type": "code",
      "source": [
        " # Define state\n",
        "config = getLangfuseHandler()\n",
        "\n",
        "# Generate initial summary\n",
        "async def generate_initial_summary(state: State):\n",
        "    summary = await initial_summary_chain.ainvoke(state[\"contents\"][0], config)\n",
        "    return {\"summary\": summary, \"index\": 1}\n",
        "\n",
        "# Refine summary\n",
        "async def refine_summary(state: State):\n",
        "    content = state[\"contents\"][state[\"index\"]]\n",
        "    summary = await refine_summary_chain.ainvoke(\n",
        "        {\"existing_answer\": state[\"summary\"], \"context\": content}, config\n",
        "    )\n",
        "    return {\"summary\": summary, \"index\": state[\"index\"] + 1}\n",
        "\n",
        "# Check if we should refine\n",
        "def should_refine(state: State):\n",
        "    return \"refine_summary\" if state[\"index\"] < len(state[\"contents\"]) else END\n",
        "\n",
        "# Build processing graph\n",
        "graph = StateGraph(State)\n",
        "graph.add_node(\"generate_initial_summary\", generate_initial_summary)\n",
        "graph.add_node(\"refine_summary\", refine_summary)\n",
        "graph.add_edge(START, \"generate_initial_summary\")\n",
        "graph.add_conditional_edges(\"generate_initial_summary\", should_refine)\n",
        "graph.add_conditional_edges(\"refine_summary\", should_refine)\n",
        "app_graph = graph.compile()\n",
        "\n",
        "# Process asynchronously\n",
        "final_summary = None\n",
        "async for step in app_graph.astream(\n",
        "    {\"contents\": split_docs, \"index\": 0, \"summary\": \"\"},\n",
        "    stream_mode=\"values\",\n",
        "    config=config\n",
        "):\n",
        "    if \"summary\" in step:\n",
        "        final_summary = step[\"summary\"]"
      ],
      "metadata": {
        "id": "RRiWfYCexC-g"
      },
      "execution_count": 26,
      "outputs": []
    },
    {
      "cell_type": "code",
      "source": [
        "from IPython.display import Image\n",
        "\n",
        "Image(app_graph.get_graph().draw_mermaid_png())"
      ],
      "metadata": {
        "colab": {
          "base_uri": "https://localhost:8080/",
          "height": 350
        },
        "id": "JuJTkEbxy3wV",
        "outputId": "c7cbdb46-eff1-496b-84b3-da5aa645af74"
      },
      "execution_count": 31,
      "outputs": [
        {
          "output_type": "execute_result",
          "data": {
            "image/png": "[encoded data removed]",
            "text/plain": [
              "<IPython.core.display.Image object>"
            ]
          },
          "metadata": {},
          "execution_count": 31
        }
      ]
    },
    {
      "cell_type": "code",
      "source": [
        "import re\n",
        "\n",
        "def remove_think_content_and_tags(text):\n",
        "  \"\"\"\n",
        "  Removes all content between <think> and </think> tags, including the tags themselves, from a string.\n",
        "\n",
        "  Args:\n",
        "    text: The input string containing <think> tags.\n",
        "\n",
        "  Returns:\n",
        "    The string with all <think> and </think> sections removed.\n",
        "  \"\"\"\n",
        "  pattern = r\"<think>.*?</think>\"\n",
        "  cleaned_text = re.sub(pattern, \"\", text, flags=re.DOTALL)\n",
        "  return cleaned_text"
      ],
      "metadata": {
        "id": "zmP3d7iayPGj"
      },
      "execution_count": 28,
      "outputs": []
    },
    {
      "cell_type": "code",
      "source": [
        "# Remove the content between <think> </think> when use deepseek model\n",
        "cleaned_result = remove_think_content_and_tags(final_summary)\n",
        "\n",
        "# Print the cleaned content\n",
        "print(cleaned_result)"
      ],
      "metadata": {
        "colab": {
          "base_uri": "https://localhost:8080/"
        },
        "id": "r9JzpCoSyHzR",
        "outputId": "b7282c66-6519-46e3-aae4-d622bd15d509"
      },
      "execution_count": 29,
      "outputs": [
        {
          "output_type": "stream",
          "name": "stdout",
          "text": [
            "\n",
            "\n",
            "### Final Summary\n",
            "\n",
            "The 2025 Australian Open men's final between Yannick Sinner and Alexander Zverev promises to be a thrilling clash of contrasting styles and strategies. Here's a breakdown of the key factors that could influence the outcome:\n",
            "\n",
            "#### **Yannick Sinner's Path to Victory**\n",
            "- **Consistency and Adaptability**: Sinner has consistently demonstrated his ability to adapt to opponents' styles. His improved backhand and overall consistency have been key to his progression.\n",
            "- **Mental Resilience**: Sinner is known for his clutch performance, particularly in tie-breaks, where he has a 23-3 record in the last two years. His ability to stay composed under pressure is a significant advantage.\n",
            "- **Forehand Firepower**: Sinner's forehand is a weapon, and he is likely to target Zverev's weaker backhand to gain an edge.\n",
            "\n",
            "#### **Alexander Zverev's Path to Victory**\n",
            "- **Serve and Return**: Zverev's serve is a dominant weapon, and his ability to return effectively has been crucial. He has shown improved fitness and mental focus, which could be key against Sinner.\n",
            "- **Defensive Skills**: Zverev's ability to defend deep in the court and his unorthodox backhand are strengths. He is likely to focus on keeping points short and limiting Sinner's opportunities to dictate play.\n",
            "- **Mental Game**: Zverev has shown growth in handling pressure, but his past struggles in high-stakes moments could be a vulnerability.\n",
            "\n",
            "#### **Head-to-Head Dynamics**\n",
            "- **Zverev's Dominance**: Historically, Zverev has had the upper hand in their meetings, often exploiting Sinner's forehand. However, Sinner's recent improvements in his backhand and overall game have narrowed the gap.\n",
            "- **Sinner's Evolution**: Sinner's improved backhand and ability to mix angles and drop shots could be key to disrupting Zverev's rhythm.\n",
            "\n",
            "#### **Tactical Insights**\n",
            "- **Zverev's Strategy**: Zverev is likely to focus on his serve and return, aiming to keep points short, and exploit Sinner's forehand. He may also use slice shots to take Sinner out of his comfort zone.\n",
            "- **Sinner's Strategy**: Sinner will aim to dictate play with his forehand, target Zverev's weaker backhand, and use drop shots to create openings.\n",
            "\n",
            "#### **Mental Edge**\n",
            "- **Sinner's Clutch Performances**: Sinner's ability to perform under pressure is a significant advantage. His 23-3 record in tie-breaks in the last two years speaks to his mental toughness.\n",
            "- **Zverev's Growth**: Zverev has shown improved focus and fitness, but his past struggles in high-pressure situations could be a factor.\n",
            "\n",
            "#### **Prediction**\n",
            "While Zverev's serve and defensive skills give him an edge, Sinner's improved backhand, mental resilience, and ability to dictate play could be the difference. If Sinner can manage his forehand errors and maintain his physicality, he has a strong chance of victory. However, Zverev's experience and tactical acumen make him the slight favorite.\n",
            "\n",
            "This match will be a test of both players' physical and mental fortitude, with the outcome likely hinging on their ability to execute their strategies under pressure.\n"
          ]
        }
      ]
    }
  ]
}